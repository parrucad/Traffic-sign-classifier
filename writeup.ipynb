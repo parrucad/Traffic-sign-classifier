{
 "cells": [
  {
   "cell_type": "markdown",
   "metadata": {},
   "source": [
    "# **Traffic Sign Recognition** \n",
    "\n",
    "## Writeup\n",
    "\n",
    "\n",
    "---\n",
    "\n",
    "**Build a Traffic Sign Recognition Project**\n",
    "\n",
    "The goals / steps of this project are the following:\n",
    "* Load the data set (see below for links to the project data set)\n",
    "* Explore, summarize and visualize the data set\n",
    "* Design, train and test a model architecture\n",
    "* Use the model to make predictions on new images\n",
    "* Analyze the softmax probabilities of the new images\n",
    "* Summarize the results with a written report\n",
    "\n",
    "[//]: # (Image References)\n",
    "\n",
    "[image1]: ./examples/visualization.png \"Visualization\"\n",
    "\n",
    "\n"
   ]
  },
  {
   "cell_type": "markdown",
   "metadata": {},
   "source": [
    "## Rubric Points\n",
    "### Here I will consider the [rubric points](https://review.udacity.com/#!/rubrics/481/view) individually and describe how I addressed each point in my implementation.  \n"
   ]
  },
  {
   "cell_type": "markdown",
   "metadata": {},
   "source": [
    "---\n",
    "### Writeup / README\n",
    "\n",
    "#### 1. Provide a Writeup / README that includes all the rubric points and how you addressed each one. You can submit your writeup as markdown or pdf. You can use this template as a guide for writing the report. The submission includes the project code.\n",
    "\n",
    "You're reading it! and here is a link to my [project code](https://github.com/parrucad/Traffic-sign-classifier/blob/master/Traffic_Sign_Classifier.ipynb)\n"
   ]
  },
  {
   "cell_type": "markdown",
   "metadata": {},
   "source": [
    "### Data Set Summary & Exploration\n",
    "\n",
    "#### 1. Provide a basic summary of the data set. In the code, the analysis should be done using python, numpy and/or pandas methods rather than hardcoding results manually.\n",
    "\n",
    "I used the pandas library to calculate summary statistics of the traffic\n",
    "signs data set:\n",
    "\n",
    "* The size of training set is: (34799, 32, 32, 3)\n",
    "* The size of the validation set is = 34799\n",
    "* The size of test set is = 12630\n",
    "* The shape of a traffic sign image is = (32, 32, 3)\n",
    "* The number of unique classes/labels in the data set is = 43\n",
    "\n"
   ]
  },
  {
   "cell_type": "markdown",
   "metadata": {},
   "source": [
    "#### 2. Include an exploratory visualization of the dataset.\n",
    "\n",
    "An explaratory visualization of the data set is given in the code cells 3 and 4. In code cell 3 I show the one representative image for each class. \n",
    "\n",
    "Whereas in code cell 4 I show the number of training samples for each class. For each entry in the x-axis (telling the class number) I plot in the y-axis the number of training samples available for that class. As it can be noticed, the classes 1 and 19 have the lowest numbers of training sets, whereas class 3 (50 kmh) has the largest number of training images.\n",
    "\n"
   ]
  },
  {
   "cell_type": "markdown",
   "metadata": {},
   "source": [
    "### Design and Test a Model Architecture\n",
    "\n",
    "#### 1. Describe how you preprocessed the image data. What techniques were chosen and why did you choose these techniques? Consider including images showing the output of each preprocessing technique. Pre-processing refers to techniques such as converting to grayscale, normalization, etc. (OPTIONAL: As described in the \"Stand Out Suggestions\" part of the rubric, if you generated additional data for training, describe why you decided to generate additional data, how you generated the data, and provide example images of the additional data. Then describe the characteristics of the augmented training set like number of images in the set, number of images for each class, etc.)\n",
    "\n",
    "As a first step, I decided to convert the images to grayscale because light intensity information suffices for the image classification. This was also confirmed from the Yann Le Cunn's paper on traffic sign recognition. Then, I normalized so that the data so that it has mean zero and equal variance. For image data, I used the approximaiton: (pixel - 128)/ 128 due to its ease of implementation. \n",
    "\n",
    "Other pre-processing steps that I used are: \n",
    "\n",
    "* random rotation where the rotation angle is uniformly distributed from -15 to +15 degrees.\n",
    "* random scaling with a scaling factor uniformly distributed between 0.9x and 1.1x\n",
    "* random translating with a random shift of up to +/- 2 lines or columns. \n",
    "\n",
    "These techniques help the classification algorithm to be more robust against effects of rotation, scaling and translation which often happen while the camera is mounted in a moving body (here is the car). It happens that images are captured from different angles due to ego path, they are shifted or depending on the distance to the car they are scaled.\n",
    "\n",
    "In code-cell 5 I show an example of the effect of rotation, scaling and translation on a 20 kph image. "
   ]
  },
  {
   "cell_type": "markdown",
   "metadata": {},
   "source": [
    "#### 2. Describe what your final model architecture looks like including model type, layers, layer sizes, connectivity, etc.) Consider including a diagram and/or table describing the final model.\n",
    "\n",
    "My final model consisted the Sermanet/LeCun model, which is composed of the following layers:\n",
    "\n",
    "| Layer         \t\t|     Description\t        \t\t\t\t\t|\n",
    "|:---------------------:|:---------------------------------------------:|\n",
    "| Input         \t\t| 32x32x1 Grayscale image in, 28x28x6 out   \t| \n",
    "| Convolution 5x5     \t| 1x1 stride, same padding, outputs 28x28x6 \t|\n",
    "| RELU\t\t\t\t\t|\t\t\t\t\t\t\t\t\t\t\t\t|\n",
    "| Dropout    \t\t\t| Keeping probability 0.7\t\t\t\t\t\t|\n",
    "| Max pooling 2x2      \t| 28x28x6 in, 14x14x6 out\t\t\t            |\n",
    "| Convolution 5x5\t    | 14x14x6 in, 10x10x16 out\t\t\t\t\t\t|\n",
    "| RELU           \t\t|            \t\t\t\t\t\t\t\t\t|\n",
    "| Max pooling 2x2   \t| 10x10x16 in, 5x5x16 out    \t\t\t\t\t|\n",
    "| Convolution 5x5\t\t| 5x5x6 in, 1x1x400 out   \t\t\t\t\t\t|\n",
    "| RELU\t\t\t\t\t|\t                                            |\n",
    "| Dropout    \t\t\t| Keeping probability 0.6\t\t\t\t\t\t|\n",
    "| Flatten layers\t\t|                                               |\n",
    "| Concatenate layers    | To a single size-800 layer                    |\n",
    "| Dropout layers        |                                               |\n",
    "| Fully connected layer | 800 in, 43 out                                |\n"
   ]
  },
  {
   "cell_type": "markdown",
   "metadata": {},
   "source": [
    "#### 3. Describe how you trained your model. The discussion can include the type of optimizer, the batch size, number of epochs and any hyperparameters such as learning rate.\n",
    "\n",
    "The type of optimizer I chose was Adam optimizer as it was already implemented in the LeNet lab and gave good results. The training parameters that I used were:\n",
    "\n",
    "| Description      \t\t| Value      \t             \t\t\t\t\t|\n",
    "|:---------------------:|:---------------------------------------------:|\n",
    "| Optimizer type   \t\t| Adam Optimizer  \t                            | \n",
    "| Batch size        \t| 100                                          \t|\n",
    "| No. Epochs\t\t\t| 40\t\t\t\t\t\t\t\t\t\t\t|\n",
    "| Learning rate      \t| 0.0009                \t\t\t            |\n",
    "| mu                \t| 0                      \t\t\t            |\n",
    "| sigma              \t| 0.1                   \t\t\t            |"
   ]
  },
  {
   "cell_type": "markdown",
   "metadata": {},
   "source": [
    "\n",
    "#### 4. Describe the approach taken for finding a solution and getting the validation set accuracy to be at least 0.93. Include in the discussion the results on the training, validation and test sets and where in the code these were calculated. Your approach may have been an iterative process, in which case, outline the steps you took to get to the final solution and why you chose those steps. Perhaps your solution involved an already well known implementation or architecture. In this case, discuss why you think the architecture is suitable for the current problem.\n",
    "\n",
    "\n",
    "I simply chose Sermanet / LeCu model due to the success they showed in the paper. The architecture simply fullfills the requirements of this assignment with a validation set accuracy of 0.986 which is considerably larger than the minimally required accuracy of 0.93. The architecture does it's job, so I think it is suitable for the current problem.\n",
    "\n",
    "\n",
    "My final model results were:\n",
    "* Training set accuracy = 0.994\n",
    "* Validation set accuracy = 0.986\n",
    "* Test set accuracy = 0.947\n",
    "\n",
    "If a well known architecture was chosen:\n",
    "* What architecture was chosen?\n",
    "- Sermanet / LeCun model was chosen\n",
    "* Why did you believe it would be relevant to the traffic sign application?\n",
    "- Tailored to the traffic sign recognition problem\n",
    "* How does the final model's accuracy on the training, validation and test set provide evidence that the model is working well?\n",
    "- First of all, all three accuracies are different to each other, meaning that I am not reusing the same data set over and over again for testing, validation and testing. \n",
    "- Secondly, it is to be expected that both validation and test accuracies are less than the training set accuracy, as they are different data sets. The model is actually tuned to the training set.\n"
   ]
  },
  {
   "cell_type": "markdown",
   "metadata": {},
   "source": [
    "### Test a Model on New Images"
   ]
  },
  {
   "cell_type": "markdown",
   "metadata": {},
   "source": [
    "#### 1. Choose five German traffic signs found on the web and provide them in the report. For each image, discuss what quality or qualities might be difficult to classify.\n",
    "\n",
    "In the fifth code cell from the bottom I show six German traffic signs that I found on the web:\n",
    "\n",
    "* Speed limit (30km/h)\n",
    "* Speed limit (50km/h)\n",
    "* Dangerous curve to the right\n",
    "* General caution\n",
    "* Go straight or right\n",
    "* Road work\n",
    "\n",
    "The first two speed limit images might be difficult to be distinguished from each other as they both have similar shape (circular) and the lower part of digit 5 in 50km/h image is similar to the lower part of three. The same concerns also apply for the triangular shaped traffic signs. I am curious how the classifier will perform on them..."
   ]
  },
  {
   "cell_type": "markdown",
   "metadata": {},
   "source": [
    "#### 2. Discuss the model's predictions on these new traffic signs and compare the results to predicting on the test set. At a minimum, discuss what the predictions were, the accuracy on these new predictions, and compare the accuracy to the accuracy on the test set (OPTIONAL: Discuss the results in more detail as described in the \"Stand Out Suggestions\" part of the rubric).\n",
    "\n",
    "The model was able to correctly guess 5 of the 6 traffic signs, which gives an accuracy of 83%.\n",
    "\n",
    "The reason is that the classifier wrongly classified the 50km/h speed limit sign as a 30km/h one. The classifier had the following predictions:\n",
    "\n",
    "\n",
    "| Image          \t\t| Prediction   \t             \t\t\t\t\t|\n",
    "|:---------------------:|:---------------------------------------------:|\n",
    "| Speed limit (30km/h)   \t\t| Speed limit (30km/h)  \t                            | \n",
    "| Speed limit (50km/h)        \t| Speed limit (30km/h)                                         \t|\n",
    "| Dangerous curve to the right\t\t\t| Dangerous curve to the right\t\t\t\t\t\t\t\t\t\t\t|\n",
    "| General caution      \t| General caution              \t\t\t            |\n",
    "| Go straight or right              \t| Go straight or right                      \t\t\t            |\n",
    "| Road work             \t| Road work                     \t\t\t            |\n",
    "\n"
   ]
  },
  {
   "cell_type": "markdown",
   "metadata": {},
   "source": [
    "#### 3. Describe how certain the model is when predicting on each of the five new images by looking at the softmax probabilities for each prediction. Provide the top 5 softmax probabilities for each image along with the sign type of each probability. (OPTIONAL: as described in the \"Stand Out Suggestions\" part of the rubric, visualizations can also be provided such as bar charts)\n",
    "\n",
    "The code for making predictions on my final model is located in the 2nd cell from the bottom of the Ipython notebook.\n",
    "Additionally, I visualized for each image the top five softmax probabilities and the corresponding images that the algorithm predicted.\n",
    "\n"
   ]
  }
 ],
 "metadata": {
  "kernelspec": {
   "display_name": "Python 3",
   "language": "python",
   "name": "python3"
  },
  "language_info": {
   "codemirror_mode": {
    "name": "ipython",
    "version": 3
   },
   "file_extension": ".py",
   "mimetype": "text/x-python",
   "name": "python",
   "nbconvert_exporter": "python",
   "pygments_lexer": "ipython3",
   "version": "3.7.0"
  }
 },
 "nbformat": 4,
 "nbformat_minor": 2
}
